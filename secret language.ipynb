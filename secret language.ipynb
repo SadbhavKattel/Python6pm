{
 "cells": [
  {
   "cell_type": "code",
   "execution_count": null,
   "id": "e6b36cb1",
   "metadata": {},
   "outputs": [],
   "source": [
    "# coding\n",
    "#if the woord has 3 characters then remove the first letter and append it at the end\n",
    "#now append three random characters at the starting and the end\n",
    "#else: simply reverse the string\n",
    "\n",
    "#decoding\n",
    "# if the word contains less than 3 chars reverse it.\n",
    "#else:remove 3 random chars from start to end. now reverse the last letter and append it to the beginning\n",
    "# program operation: it should ask wheter you want to code or decode"
   ]
  }
 ],
 "metadata": {
  "kernelspec": {
   "display_name": "Python 3 (ipykernel)",
   "language": "python",
   "name": "python3"
  },
  "language_info": {
   "codemirror_mode": {
    "name": "ipython",
    "version": 3
   },
   "file_extension": ".py",
   "mimetype": "text/x-python",
   "name": "python",
   "nbconvert_exporter": "python",
   "pygments_lexer": "ipython3",
   "version": "3.11.5"
  }
 },
 "nbformat": 4,
 "nbformat_minor": 5
}
