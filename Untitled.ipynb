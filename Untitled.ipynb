{
 "cells": [
  {
   "cell_type": "code",
   "execution_count": 3,
   "id": "46b0ffa1",
   "metadata": {},
   "outputs": [
    {
     "name": "stdout",
     "output_type": "stream",
     "text": [
      "Enter a number=5\n",
      "Enter an operator=+\n",
      "Enter a number=7\n",
      "result= 12.0\n"
     ]
    }
   ],
   "source": [
    "a = float(input(\"Enter a number=\"))\n",
    "o = str(input(\"Enter an operator=\"))\n",
    "b = float(input(\"Enter a number=\"))\n",
    "if o==\"+\":\n",
    "    result = a + b\n",
    "elif o==\"-\":\n",
    "    result = a - b\n",
    "elif o==\"*\":    \n",
    "    result = a * b\n",
    "elif o==\"**\" or o==\"^\": #and operator= &, or operator |\n",
    "    result = a ** b\n",
    "elif o==\"/\" and b!=0:\n",
    "    result = a / b\n",
    "else :\n",
    "    result = \"error\"\n",
    "print(\"result=\",result)\n",
    "\n"
   ]
  },
  {
   "cell_type": "markdown",
   "id": "18f835ec",
   "metadata": {},
   "source": [
    "##### "
   ]
  },
  {
   "cell_type": "code",
   "execution_count": 1,
   "id": "60487169",
   "metadata": {},
   "outputs": [
    {
     "name": "stdout",
     "output_type": "stream",
     "text": [
      "Enter your age=18\n",
      "your bdate is=  2005\n"
     ]
    }
   ],
   "source": [
    "age = int(input(\"Enter your age=\"))\n",
    "\n",
    "cdate = int(2023)\n",
    "bdate= cdate-age\n",
    "print(\"your bdate is= \",bdate)"
   ]
  },
  {
   "cell_type": "code",
   "execution_count": 7,
   "id": "7b82b451",
   "metadata": {},
   "outputs": [
    {
     "name": "stdout",
     "output_type": "stream",
     "text": [
      "Enter your birth year=2004\n",
      "Enter your birth month in number=10\n",
      "Enter your birthdate=4\n",
      "your age is= 19\n"
     ]
    }
   ],
   "source": [
    "byear = int(input(\"Enter your birth year=\"))\n",
    "month = int(input(\"Enter your birth month in number=\"))\n",
    "date = int(input(\"Enter your birthdate=\"))\n",
    "if month < 10:\n",
    "    age = 2023 - byear\n",
    "elif (month == 10) and (date < 11):\n",
    "    age = 2023 - byear\n",
    "else:\n",
    "    age = 2022 - byear\n",
    "print(\"your age is=\",age)"
   ]
  },
  {
   "cell_type": "code",
   "execution_count": 8,
   "id": "94b853ca",
   "metadata": {},
   "outputs": [
    {
     "data": {
      "text/plain": [
       "'C:\\\\Users\\\\ittra\\\\Python'"
      ]
     },
     "execution_count": 8,
     "metadata": {},
     "output_type": "execute_result"
    }
   ],
   "source": [
    "pwd"
   ]
  },
  {
   "cell_type": "code",
   "execution_count": 10,
   "id": "49528a4e",
   "metadata": {},
   "outputs": [
    {
     "name": "stdout",
     "output_type": "stream",
     "text": [
      "Sadbhav\n",
      "Sadbhav\n",
      "Sadbhav\n",
      "Sadbhav\n",
      "Sadbhav\n"
     ]
    }
   ],
   "source": [
    "#nested if else statement\n",
    "# for while\n",
    "#range(5)\n",
    "#(0,5)\n",
    "#(0,10,2)\n",
    "for i in range(5):\n",
    "    print(\"Sadbhav\")"
   ]
  },
  {
   "cell_type": "code",
   "execution_count": 1,
   "id": "728e1713",
   "metadata": {},
   "outputs": [
    {
     "name": "stdout",
     "output_type": "stream",
     "text": [
      "Enter n=2\n",
      "enter x=1\n",
      "enter x=1\n",
      "2\n"
     ]
    }
   ],
   "source": [
    "s = 0\n",
    "n = int(input(\"Enter n=\"))\n",
    "for i in range(n):\n",
    "    x = int(input(\"enter x=\"))\n",
    "    s = s + x\n",
    "print(s)"
   ]
  },
  {
   "cell_type": "code",
   "execution_count": 3,
   "id": "6fea74eb",
   "metadata": {},
   "outputs": [
    {
     "name": "stdout",
     "output_type": "stream",
     "text": [
      "0\n",
      "1\n",
      "2\n",
      "3\n",
      "4\n"
     ]
    }
   ],
   "source": [
    "for i in range(9):\n",
    "    if i == 5:\n",
    "      break\n",
    "    print(i)\n",
    "    "
   ]
  },
  {
   "cell_type": "code",
   "execution_count": 5,
   "id": "0e9a5466",
   "metadata": {},
   "outputs": [
    {
     "name": "stdout",
     "output_type": "stream",
     "text": [
      "0\n",
      "1\n",
      "2\n",
      "3\n",
      "4\n",
      "6\n",
      "7\n",
      "8\n"
     ]
    }
   ],
   "source": [
    "for i in range(9):\n",
    "    if i == 5:\n",
    "        continue\n",
    "    print(i)    \n"
   ]
  },
  {
   "cell_type": "code",
   "execution_count": 6,
   "id": "33623149",
   "metadata": {},
   "outputs": [
    {
     "name": "stdout",
     "output_type": "stream",
     "text": [
      "S\n",
      "a\n",
      "d\n",
      "b\n",
      "h\n",
      "a\n"
     ]
    }
   ],
   "source": [
    "a = \"Sadbhav Kattel\"\n",
    "for i in a:\n",
    "    if i == \"v\":\n",
    "        break\n",
    "    print(i)"
   ]
  },
  {
   "cell_type": "code",
   "execution_count": 7,
   "id": "13c3aa75",
   "metadata": {},
   "outputs": [
    {
     "name": "stdout",
     "output_type": "stream",
     "text": [
      "S\n",
      "a\n",
      "d\n",
      "b\n",
      "h\n",
      "a\n",
      " \n",
      "K\n",
      "a\n",
      "t\n",
      "t\n",
      "e\n",
      "l\n"
     ]
    }
   ],
   "source": [
    "a = \"Sadbhav Kattel\"\n",
    "for i in a:\n",
    "    if i == \"v\":\n",
    "        continue\n",
    "    print(i)"
   ]
  },
  {
   "cell_type": "code",
   "execution_count": 9,
   "id": "f7bf756e",
   "metadata": {},
   "outputs": [
    {
     "name": "stdout",
     "output_type": "stream",
     "text": [
      "Enter n = 4\n",
      "The no is composite\n"
     ]
    }
   ],
   "source": [
    "#forselse loop\n",
    "n = int(input(\"Enter n = \"))\n",
    "for i in range(2,n):\n",
    "    if n%i==0:\n",
    "        print(\"The no is composite\")\n",
    "        break\n",
    "else:\n",
    "        print(\"The no is prime\")    \n",
    "        "
   ]
  },
  {
   "cell_type": "code",
   "execution_count": 10,
   "id": "3ea8800d",
   "metadata": {},
   "outputs": [
    {
     "name": "stdout",
     "output_type": "stream",
     "text": [
      "0\n",
      "1\n",
      "2\n",
      "3\n",
      "4\n"
     ]
    }
   ],
   "source": [
    " #while loop\n",
    "i = 0\n",
    "while i<5:\n",
    "    print(i)\n",
    "    i = i+1\n",
    "    #i+=1\n",
    "    "
   ]
  },
  {
   "cell_type": "code",
   "execution_count": 11,
   "id": "6b1fbf19",
   "metadata": {},
   "outputs": [
    {
     "name": "stdout",
     "output_type": "stream",
     "text": [
      "Enter2\n",
      "enter x3\n",
      "3\n",
      "enter x3\n",
      "6\n"
     ]
    }
   ],
   "source": [
    "i = 0\n",
    "s = 0\n",
    "n = int(input(\"Enter\"))\n",
    "while i<n:\n",
    "    x = int(input(\"enter x\"))\n",
    "    s = s+x\n",
    "    i = i+1\n",
    "    print(s)"
   ]
  },
  {
   "cell_type": "code",
   "execution_count": 12,
   "id": "d28fc46b",
   "metadata": {},
   "outputs": [
    {
     "name": "stdout",
     "output_type": "stream",
     "text": [
      "1\n",
      "2\n",
      "6\n",
      "24\n",
      "120\n"
     ]
    }
   ],
   "source": [
    "i = 1\n",
    "fac = 1\n",
    "while i<=5:\n",
    "    fac = fac * i\n",
    "    i = i+1\n",
    "    print(fac)"
   ]
  },
  {
   "cell_type": "code",
   "execution_count": 8,
   "id": "e62e3041",
   "metadata": {},
   "outputs": [
    {
     "name": "stdout",
     "output_type": "stream",
     "text": [
      "0 \n",
      " 1\n",
      "1\n",
      "2\n",
      "3\n",
      "5\n",
      "8\n",
      "13\n",
      "21\n",
      "34\n",
      "55\n",
      "89\n"
     ]
    }
   ],
   "source": [
    "i = 0\n",
    "j = 1\n",
    "print(i,\"\\n\",j)\n",
    "for n in range(10):\n",
    "    k = i + j\n",
    "    print(k)\n",
    "    i = j\n",
    "    j = k"
   ]
  },
  {
   "cell_type": "code",
   "execution_count": 9,
   "id": "812d9c22",
   "metadata": {},
   "outputs": [
    {
     "name": "stdout",
     "output_type": "stream",
     "text": [
      "0 \n",
      " 1\n",
      "1\n",
      "2\n",
      "3\n",
      "5\n",
      "8\n",
      "13\n",
      "21\n",
      "34\n",
      "55\n",
      "89\n"
     ]
    }
   ],
   "source": [
    "n = 0\n",
    "i = 0\n",
    "j = 1\n",
    "print(i,\"\\n\",j)\n",
    "while n<10:\n",
    "    k = i + j\n",
    "    print(k)\n",
    "    i = j\n",
    "    j = k\n",
    "    n = n+1"
   ]
  },
  {
   "cell_type": "code",
   "execution_count": 4,
   "id": "dea3dc2f",
   "metadata": {},
   "outputs": [
    {
     "name": "stdout",
     "output_type": "stream",
     "text": [
      "red apple\n",
      "red banana\n",
      "red cherry\n",
      "big apple\n",
      "big banana\n",
      "big cherry\n",
      "tasty apple\n",
      "tasty banana\n",
      "tasty cherry\n"
     ]
    }
   ],
   "source": [
    "adj = [\"red\", \"big\", \"tasty\"]\n",
    "fruits = [\"apple\", \"banana\", \"cherry\"]\n",
    "\n",
    "for x in adj:\n",
    " for y in fruits:\n",
    "    print(x, y)"
   ]
  },
  {
   "cell_type": "code",
   "execution_count": 3,
   "id": "0d99e34f",
   "metadata": {},
   "outputs": [
    {
     "name": "stdout",
     "output_type": "stream",
     "text": [
      "s\n",
      "a\n",
      "d\n",
      "b\n",
      "h\n",
      "a\n",
      "v\n",
      " \n",
      "i\n",
      "s\n",
      " \n",
      "g\n",
      "o\n",
      "o\n",
      "d\n"
     ]
    }
   ],
   "source": [
    "a = \"sadbhav is good\"\n",
    "for char in a:\n",
    "    print(char)"
   ]
  },
  {
   "cell_type": "code",
   "execution_count": 5,
   "id": "240950a7",
   "metadata": {},
   "outputs": [
    {
     "name": "stdout",
     "output_type": "stream",
     "text": [
      "s\n"
     ]
    }
   ],
   "source": [
    "print(a[0])"
   ]
  },
  {
   "cell_type": "code",
   "execution_count": 3,
   "id": "a79ca636",
   "metadata": {},
   "outputs": [
    {
     "name": "stdout",
     "output_type": "stream",
     "text": [
      "<class 'list'>\n",
      "<class 'tuple'>\n"
     ]
    }
   ],
   "source": [
    "numbers = [1,2,3] #listusesbigbracket, tuple uses small bracket\n",
    "tup = (4,5,6)\n",
    "print(type(numbers))\n",
    "print(type(tup))"
   ]
  },
  {
   "cell_type": "code",
   "execution_count": 8,
   "id": "fc313603",
   "metadata": {},
   "outputs": [
    {
     "name": "stdout",
     "output_type": "stream",
     "text": [
      "[99, 2, 3, 98]\n",
      "[99, 2, 3, 98, 98]\n",
      "[99, 2, 3, 98, 98, 9, 0, 3]\n"
     ]
    }
   ],
   "source": [
    "#change list value, tuple cant be changed\n",
    "numbers[0] = 99\n",
    "print(numbers)\n",
    "numbers.append(98)\n",
    "print(numbers)\n",
    "anotherlist = [9,0,3]\n",
    "numbers.extend(anotherlist)\n",
    "print(numbers)"
   ]
  },
  {
   "cell_type": "code",
   "execution_count": 9,
   "id": "014a7b3b",
   "metadata": {},
   "outputs": [
    {
     "name": "stdout",
     "output_type": "stream",
     "text": [
      "8\n"
     ]
    }
   ],
   "source": [
    " print(len(numbers))"
   ]
  },
  {
   "cell_type": "code",
   "execution_count": 10,
   "id": "709ba5f6",
   "metadata": {},
   "outputs": [
    {
     "name": "stdout",
     "output_type": "stream",
     "text": [
      "yes\n"
     ]
    }
   ],
   "source": [
    "if 9 in numbers:\n",
    "    print(\"yes\")\n",
    "else:\n",
    "    print(\"no\")"
   ]
  },
  {
   "cell_type": "code",
   "execution_count": 14,
   "id": "50a510f7",
   "metadata": {},
   "outputs": [
    {
     "name": "stdout",
     "output_type": "stream",
     "text": [
      "1\n",
      "0\n",
      "1\n"
     ]
    }
   ],
   "source": [
    "print(tup.count(5))# no of the distinct identity in the tuple\n",
    "res = tup.count(5)\n",
    "print(tup.index(4)) #firts occurence of the given identity\n",
    "print(res)"
   ]
  },
  {
   "cell_type": "code",
   "execution_count": 3,
   "id": "2c700828",
   "metadata": {},
   "outputs": [
    {
     "name": "stdout",
     "output_type": "stream",
     "text": [
      "720\n"
     ]
    }
   ],
   "source": [
    " def factorial(n):\n",
    "  if(n==0 or n==1):\n",
    "    return 1\n",
    "  else:\n",
    "    return n*factorial(n-1)\n",
    "    \n",
    "print(factorial(6))\n",
    "    "
   ]
  },
  {
   "cell_type": "code",
   "execution_count": 2,
   "id": "ddc3f656",
   "metadata": {},
   "outputs": [
    {
     "name": "stdout",
     "output_type": "stream",
     "text": [
      "{1, 2, 3, 7, 8, 9}\n",
      "{8, 9, 7}\n",
      "{1, 2, 3}\n"
     ]
    }
   ],
   "source": [
    "s1 = {1,2,3}\n",
    "s2 = {7,8,9}\n",
    "print(s1.union(s2))\n",
    "s1.update(s2)#brings elements in s1 which are in s2 but not in s1\n",
    "s2.intersection_update(s1)\n",
    "print(s2)\n",
    "print(s1.symmetric_difference(s2))"
   ]
  },
  {
   "cell_type": "code",
   "execution_count": 3,
   "id": "33fe3f77",
   "metadata": {},
   "outputs": [
    {
     "name": "stdout",
     "output_type": "stream",
     "text": [
      "True\n"
     ]
    }
   ],
   "source": [
    "s1.add(6)\n",
    "s2.remove(7)\n",
    "print(s1.issuperset(s2))"
   ]
  },
  {
   "cell_type": "code",
   "execution_count": 5,
   "id": "d801471e",
   "metadata": {},
   "outputs": [
    {
     "name": "stdout",
     "output_type": "stream",
     "text": [
      "33\n",
      "{43, 22}\n"
     ]
    }
   ],
   "source": [
    "s3 = {43,22,33}\n",
    "item = s3.pop()\n",
    "print(item)\n",
    "print(s3)"
   ]
  },
  {
   "cell_type": "code",
   "execution_count": 1,
   "id": "9ccd28e6",
   "metadata": {},
   "outputs": [
    {
     "name": "stdout",
     "output_type": "stream",
     "text": [
      "B\n"
     ]
    }
   ],
   "source": [
    "a = 330\n",
    "b = 3303\n",
    "print(\"A\") if a>b else print(\"=\") if a==b else print(\"B\")"
   ]
  },
  {
   "cell_type": "code",
   "execution_count": 5,
   "id": "94708ab4",
   "metadata": {},
   "outputs": [
    {
     "name": "stdout",
     "output_type": "stream",
     "text": [
      " \n",
      "hlowrd\n"
     ]
    }
   ],
   "source": [
    "a = \"hello world\"\n",
    "print(a[5])\n",
    "print(a[0:11:2])"
   ]
  },
  {
   "cell_type": "code",
   "execution_count": 3,
   "id": "19e749f6",
   "metadata": {},
   "outputs": [
    {
     "ename": "NameError",
     "evalue": "name 'avin' is not defined",
     "output_type": "error",
     "traceback": [
      "\u001b[1;31m---------------------------------------------------------------------------\u001b[0m",
      "\u001b[1;31mNameError\u001b[0m                                 Traceback (most recent call last)",
      "Cell \u001b[1;32mIn[3], line 1\u001b[0m\n\u001b[1;32m----> 1\u001b[0m fruits \u001b[38;5;241m=\u001b[39m (avin, arvin, padam, cody)\n\u001b[0;32m      2\u001b[0m \u001b[38;5;28;01mfor\u001b[39;00m fruit \u001b[38;5;129;01min\u001b[39;00m fruits:\n\u001b[0;32m      3\u001b[0m     \u001b[38;5;28mprint\u001b[39m(fruit)\n",
      "\u001b[1;31mNameError\u001b[0m: name 'avin' is not defined"
     ]
    }
   ],
   "source": [
    "\n"
   ]
  },
  {
   "cell_type": "code",
   "execution_count": 10,
   "id": "60c6676a",
   "metadata": {},
   "outputs": [
    {
     "name": "stdout",
     "output_type": "stream",
     "text": [
      "['sadbhav', 'kattel', 1, 2]\n",
      "['sadbhav', 2, 1, 'kattel', 'sadbhav']\n",
      "0\n"
     ]
    }
   ],
   "source": [
    "#list\n",
    "list = [\"sadbhav\",\"kattel\",1,2]\n",
    "print(list)\n",
    "list.append(\"sadbhav\")\n",
    "list.reverse()\n",
    "print(list)\n",
    "index = list.index('sadbhav')\n",
    "print(index)"
   ]
  },
  {
   "cell_type": "code",
   "execution_count": 8,
   "id": "cc9b99cc",
   "metadata": {},
   "outputs": [
    {
     "name": "stdout",
     "output_type": "stream",
     "text": [
      "enter a number1001\n"
     ]
    },
    {
     "ename": "TypeError",
     "evalue": "unsupported operand type(s) for -: 'str' and 'int'",
     "output_type": "error",
     "traceback": [
      "\u001b[1;31m---------------------------------------------------------------------------\u001b[0m",
      "\u001b[1;31mTypeError\u001b[0m                                 Traceback (most recent call last)",
      "Cell \u001b[1;32mIn[8], line 5\u001b[0m\n\u001b[0;32m      3\u001b[0m x \u001b[38;5;241m=\u001b[39m \u001b[38;5;241m0\u001b[39m\n\u001b[0;32m      4\u001b[0m \u001b[38;5;28;01mwhile\u001b[39;00m x\u001b[38;5;241m<\u001b[39m\u001b[38;5;28mlen\u001b[39m(a):\n\u001b[1;32m----> 5\u001b[0m     \u001b[38;5;28;01mif\u001b[39;00m a[\u001b[38;5;241m0\u001b[39m\u001b[38;5;241m+\u001b[39mx]\u001b[38;5;241m==\u001b[39ma[\u001b[38;5;28mlen\u001b[39m(a\u001b[38;5;241m-\u001b[39m\u001b[38;5;241m1\u001b[39m\u001b[38;5;241m-\u001b[39mx)]:\n\u001b[0;32m      6\u001b[0m         x \u001b[38;5;241m=\u001b[39m x \u001b[38;5;241m+\u001b[39m\u001b[38;5;241m1\u001b[39m\n\u001b[0;32m      7\u001b[0m         \u001b[38;5;28mprint\u001b[39m(\u001b[38;5;124m\"\u001b[39m\u001b[38;5;124mpalindrome\u001b[39m\u001b[38;5;124m\"\u001b[39m)\n",
      "\u001b[1;31mTypeError\u001b[0m: unsupported operand type(s) for -: 'str' and 'int'"
     ]
    }
   ],
   "source": [
    "#palindrome detector\n",
    "a = str(input(\"enter a number\"))\n",
    "x = 0\n",
    "while x<len(a):\n",
    "    if a[0+x]==a[len(a-1-x)]:\n",
    "        x = x +1\n",
    "        print(\"palindrome\")\n",
    "    else:\n",
    "        print(\"no\")\n",
    "    \n",
    "    \n",
    "    "
   ]
  },
  {
   "cell_type": "code",
   "execution_count": 1,
   "id": "3e8f43b4",
   "metadata": {},
   "outputs": [
    {
     "name": "stdout",
     "output_type": "stream",
     "text": [
      "[1 2 3 4 5 6 7]\n"
     ]
    }
   ],
   "source": [
    "import numpy as np\n",
    "a = [1,2,3,4,5,6,7]\n",
    "n = np.array(a)\n",
    "print(n)"
   ]
  },
  {
   "cell_type": "code",
   "execution_count": 2,
   "id": "57cd6744",
   "metadata": {},
   "outputs": [
    {
     "name": "stdout",
     "output_type": "stream",
     "text": [
      "[10 20 30 40 50 60 70]\n"
     ]
    }
   ],
   "source": [
    "n = n*10\n",
    "print(n)"
   ]
  },
  {
   "cell_type": "code",
   "execution_count": null,
   "id": "e3225a98",
   "metadata": {},
   "outputs": [],
   "source": []
  }
 ],
 "metadata": {
  "kernelspec": {
   "display_name": "Python 3 (ipykernel)",
   "language": "python",
   "name": "python3"
  },
  "language_info": {
   "codemirror_mode": {
    "name": "ipython",
    "version": 3
   },
   "file_extension": ".py",
   "mimetype": "text/x-python",
   "name": "python",
   "nbconvert_exporter": "python",
   "pygments_lexer": "ipython3",
   "version": "3.11.5"
  }
 },
 "nbformat": 4,
 "nbformat_minor": 5
}
