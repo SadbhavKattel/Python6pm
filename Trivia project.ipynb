{
 "cells": [
  {
   "cell_type": "code",
   "execution_count": 1,
   "id": "d9dec3af",
   "metadata": {},
   "outputs": [
    {
     "name": "stdout",
     "output_type": "stream",
     "text": [
      "which is a prime number\n",
      "2,4,6,8\n",
      "choose a,b,c,da\n",
      "you are right. you've won $100\n",
      "who is PM of Nepal\n",
      " kp oli, bhimsen thapa, prachanda, deuba\n",
      "choose a,b,c,dc\n",
      "you are right. you've won $1000\n",
      "What is the capital of Bangladesh\n",
      " dhaka, ktm, pkr, dehli\n",
      "choose a,b,c,da\n",
      "you are right. you've won $10000\n"
     ]
    }
   ],
   "source": [
    "qns = [\"which is a prime number\",\"who is PM of Nepal\",\"What is the capital of Bangladesh\"]\n",
    "op1 = \"2,4,6,8\"\n",
    "op2 = \" kp oli, bhimsen thapa, prachanda, deuba\"\n",
    "op3 = \" dhaka, ktm, pkr, dehli\"\n",
    "for i in range(3):\n",
    "    print(qns[i])\n",
    "    if i==0:\n",
    "        print(op1)\n",
    "        answer1= str(input(\"choose a,b,c,d\"))\n",
    "        if answer1==\"a\":\n",
    "            print(\"you are right. you've won $100\")\n",
    "        else:\n",
    "            break\n",
    "    elif i==1:\n",
    "        print(op2)\n",
    "        answer2 =input(\"choose a,b,c,d\")\n",
    "        if answer2==\"c\":\n",
    "            print(\"you are right. you've won $1000\")\n",
    "        else:\n",
    "            print(\"you lost\")\n",
    "            break\n",
    "    elif i==2:\n",
    "        print(op3)\n",
    "        answer3 =input(\"choose a,b,c,d\")\n",
    "        if answer3==\"a\":\n",
    "            print(\"you are right. you've won $10000\")\n",
    "        else:\n",
    "            print(\"you lost\")\n",
    "            break\n",
    "    else:\n",
    "        print(\"error\")"
   ]
  },
  {
   "cell_type": "code",
   "execution_count": null,
   "id": "aaae0f17",
   "metadata": {},
   "outputs": [],
   "source": [
    "#new version\n",
    "qns = [[\"language used to create fb\",\"python\",\"javascript\",\"french\",\"php\",\"none\", 4],[\"language used to create fb\",\"python\",\"javascript\",\"french\",\"php\",\"none\", 4]\n",
    ",[\"language used to create fb\",\"python\",\"javascript\",\"french\",\"php\",\"none\", 4],[\"language used to create fb\",\"python\",\"javascript\",\"french\",\"php\",\"none\", 4]\n",
    "      ]\n",
    "levels = [1000,10000,100000]\n",
    "i = 0\n",
    "for i in range(0,len(qns)):\n",
    "    qn = qns +1\n",
    "    print(f\"question for $ {levels[i]}\" )\n",
    "    print(f)\n",
    "\n"
   ]
  },
  {
   "cell_type": "code",
   "execution_count": null,
   "id": "20885043",
   "metadata": {},
   "outputs": [],
   "source": []
  }
 ],
 "metadata": {
  "kernelspec": {
   "display_name": "Python 3 (ipykernel)",
   "language": "python",
   "name": "python3"
  },
  "language_info": {
   "codemirror_mode": {
    "name": "ipython",
    "version": 3
   },
   "file_extension": ".py",
   "mimetype": "text/x-python",
   "name": "python",
   "nbconvert_exporter": "python",
   "pygments_lexer": "ipython3",
   "version": "3.11.5"
  }
 },
 "nbformat": 4,
 "nbformat_minor": 5
}
