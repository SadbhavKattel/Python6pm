{
 "cells": [
  {
   "cell_type": "code",
   "execution_count": null,
   "id": "9208d559",
   "metadata": {},
   "outputs": [],
   "source": [
    "#separate list for data types\n",
    "names = []\n",
    "addresses = []\n",
    "ages =[]\n",
    "no = int(input(\"enter no of entries\"))\n",
    "for i in range(no):\n",
    "    name = input(\"enter name\")\n",
    "    age = input(\"enter age\")\n",
    "    address = input(\"enter address\")\n",
    "    names.append(name)\n",
    "    addresses.append(address)\n",
    "    ages.append(age)\n",
    "print(names)\n",
    "print(addresses)\n",
    "print(ages)  "
   ]
  },
  {
   "cell_type": "code",
   "execution_count": null,
   "id": "b43c7c60",
   "metadata": {},
   "outputs": [],
   "source": [
    "#separate list inside list for same person\n",
    "data = []\n",
    "no = int(input(\"enter no\"))\n",
    "for i in range(no):\n",
    "  name = input(\"enter name\")\n",
    "  age =input(\"enter age\")\n",
    "  address = input (\"enter address\")\n",
    "  data.append([name,address,age])\n",
    "\n",
    "print(data)"
   ]
  },
  {
   "cell_type": "code",
   "execution_count": 1,
   "id": "8090846e",
   "metadata": {},
   "outputs": [
    {
     "name": "stdout",
     "output_type": "stream",
     "text": [
      "enter no2\n",
      "enter namesad\n",
      "enter age17\n",
      "enter addresskir\n",
      "enter namegar\n",
      "enter age14\n",
      "enter addressbha\n",
      "[('sad', 'kir', '17'), ('gar', 'bha', '14')]\n"
     ]
    }
   ],
   "source": [
    "#same thing but tuple inside list\n",
    "data = []\n",
    "no = int(input(\"enter no\"))\n",
    "for i in range(no):\n",
    "  name = input(\"enter name\")\n",
    "  age =input(\"enter age\")\n",
    "  address = input (\"enter address\")\n",
    "  data.append((name,address,age))\n",
    "print(data)"
   ]
  },
  {
   "cell_type": "code",
   "execution_count": 3,
   "id": "cacee32e",
   "metadata": {},
   "outputs": [
    {
     "name": "stdout",
     "output_type": "stream",
     "text": [
      "enter no2\n",
      "enter namesad\n",
      "enter age17\n",
      "enter addresskir\n",
      "enter namegar\n",
      "enter age17\n",
      "enter addressbha\n",
      "(['sad', '17', 'kir'], ['gar', '17', 'bha'])\n"
     ]
    }
   ],
   "source": [
    "#list inside tuple\n",
    "data = ()\n",
    "no = int(input(\"enter no\"))\n",
    "for i in range(no):\n",
    "  name = input(\"enter name\")\n",
    "  age =input(\"enter age\")\n",
    "  address = input (\"enter address\")\n",
    "  data = list(data)\n",
    "  data.append([name,age,address])\n",
    "  data = tuple(data)\n",
    "print(data)\n",
    "\n"
   ]
  },
  {
   "cell_type": "code",
   "execution_count": null,
   "id": "f61e72ea",
   "metadata": {},
   "outputs": [],
   "source": []
  }
 ],
 "metadata": {
  "kernelspec": {
   "display_name": "Python 3 (ipykernel)",
   "language": "python",
   "name": "python3"
  },
  "language_info": {
   "codemirror_mode": {
    "name": "ipython",
    "version": 3
   },
   "file_extension": ".py",
   "mimetype": "text/x-python",
   "name": "python",
   "nbconvert_exporter": "python",
   "pygments_lexer": "ipython3",
   "version": "3.11.5"
  }
 },
 "nbformat": 4,
 "nbformat_minor": 5
}
