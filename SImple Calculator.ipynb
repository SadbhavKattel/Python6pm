{
 "cells": [
  {
   "cell_type": "code",
   "execution_count": 1,
   "id": "331fff65",
   "metadata": {},
   "outputs": [
    {
     "name": "stdout",
     "output_type": "stream",
     "text": [
      "Enter your first number=1\n",
      "Enter your second number=5\n",
      "Enter your operator=**\n",
      "Your result is 1.0\n"
     ]
    }
   ],
   "source": [
    "num1 = float(input(\"Enter your first number=\"))\n",
    "num2 = float(input(\"Enter your second number=\"))\n",
    "op = str(input(\"Enter your operator=\"))\n",
    "if op==\"+\":\n",
    "    result = num1+num2\n",
    "elif op==\"-\":\n",
    "    result = num1-num2\n",
    "elif op==\"*\":\n",
    "    result = num1*num2\n",
    "elif op==\"/\":\n",
    "    result = num1/num2\n",
    "elif op==\"**\" or \"^\":\n",
    "    result = num1**num2\n",
    "else:\n",
    "    result = \"error\"\n",
    "print(\"Your result is\",result)"
   ]
  },
  {
   "cell_type": "code",
   "execution_count": null,
   "id": "fa273bbf",
   "metadata": {},
   "outputs": [],
   "source": []
  }
 ],
 "metadata": {
  "kernelspec": {
   "display_name": "Python 3 (ipykernel)",
   "language": "python",
   "name": "python3"
  },
  "language_info": {
   "codemirror_mode": {
    "name": "ipython",
    "version": 3
   },
   "file_extension": ".py",
   "mimetype": "text/x-python",
   "name": "python",
   "nbconvert_exporter": "python",
   "pygments_lexer": "ipython3",
   "version": "3.11.5"
  }
 },
 "nbformat": 4,
 "nbformat_minor": 5
}
