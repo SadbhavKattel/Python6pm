{
 "cells": [
  {
   "cell_type": "code",
   "execution_count": 2,
   "id": "bed05e68",
   "metadata": {},
   "outputs": [
    {
     "name": "stdout",
     "output_type": "stream",
     "text": [
      "Good morning\n"
     ]
    }
   ],
   "source": [
    "import time\n",
    "t = time.strftime('%H:%M:%S')\n",
    "hour = int(time.strftime('%H'))\n",
    "if hour>=12:\n",
    "    print(\"Good afternoon\")\n",
    "elif 17=<hour=<21:\n",
    "    print(\"Good evening\")\n",
    "elif 21=<hour=<24 or 0=<hour=<4:\n",
    "    print(\"Good night\")\n",
    "else:\n",
    "    print(\"Good morning\")"
   ]
  },
  {
   "cell_type": "code",
   "execution_count": null,
   "id": "a3d6ca48",
   "metadata": {},
   "outputs": [],
   "source": []
  }
 ],
 "metadata": {
  "kernelspec": {
   "display_name": "Python 3 (ipykernel)",
   "language": "python",
   "name": "python3"
  },
  "language_info": {
   "codemirror_mode": {
    "name": "ipython",
    "version": 3
   },
   "file_extension": ".py",
   "mimetype": "text/x-python",
   "name": "python",
   "nbconvert_exporter": "python",
   "pygments_lexer": "ipython3",
   "version": "3.11.5"
  }
 },
 "nbformat": 4,
 "nbformat_minor": 5
}
